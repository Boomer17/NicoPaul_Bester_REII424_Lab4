{
 "cells": [
  {
   "cell_type": "code",
   "execution_count": null,
   "metadata": {
    "collapsed": true
   },
   "outputs": [],
   "source": []
  },
  {
   "cell_type": "code",
   "execution_count": 121,
   "metadata": {
    "scrolled": false
   },
   "outputs": [],
   "source": [
    "#Voer toets data in, dieselfde as die HB\n",
    "import pandas as pd\n",
    "from matplotlib import pyplot as plt\n",
    "import sklearn.datasets\n",
    "import csv\n",
    "\n",
    "df = pd.read_csv('CSV.csv')\n",
    "sums_by_date = df.groupby('Date').sum()\n",
    "var = 'Volume'\n",
    "\n",
    "#Pie Chart:\n",
    "sums_by_date[var].plot(kind='pie',fontsize=9)\n",
    "#plt.legend(loc='right')\n",
    "plt.ylabel('', horizontalalignment='left')\n",
    "plt.title('Share sales per date', fontsize=30)\n",
    "plt.savefig('PieChartSales.jpg')\n",
    "plt.close()\n",
    "#Here the days that generated the most volume of sales can be seen\n",
    "\n",
    "\n",
    "#Bar Chart\n",
    "sums_by_date[var].plot(kind='bar',fontsize=10)\n",
    "plt.legend(loc='upper right')\n",
    "plt.ylabel(var, horizontalalignment='left')\n",
    "plt.xlabel(var, verticalalignment='center')\n",
    "plt.title('Share sales per date', fontsize=20)\n",
    "plt.savefig('BarChartSales.jpg')\n",
    "plt.close()\n",
    "#The days with the most sales can easily be seen here\n",
    "\n",
    "\n",
    "#Histogram\n",
    "sums_by_date['Close'].plot(kind=\"hist\")\n",
    "#df.groupby('Date').sum()['Volume'.plot(kind = 'hist',fontsize = 15)\n",
    "plt.ylabel(\"Closing value of shares\", horizontalalignment='center')\n",
    "plt.xlabel('Range', verticalalignment='center')\n",
    "plt.suptitle('Share sales per date', fontsize=20)\n",
    "plt.savefig('HistogramSales.jpg')\n",
    "plt.close()\n",
    "\n",
    "#Boxplot\n",
    "#col = ’Volume’\n",
    "df['Date'] = pd.Series(df.index).apply(lambda i: i%50)\n",
    "df.pivot('Date','Volume').plot(kind='box')\n",
    "plt.savefig('Boxplot.jpg')\n",
    "plt.close()\n",
    "\n",
    "\n",
    "#Scatterplot\n",
    "df.plot(kind=\"scatter\",x=\"Date\", y=\"Volume\",alpha=0.5, color=\"r\", marker=\"*\", label='Volume')\n",
    "plt.title(\"Sales per day\")\n",
    "plt.savefig('Scatterplot.jpg')\n",
    "plt.close()\n",
    "#The range of sale volumes can be seen here and the trend of the month can be analyzed\n",
    "\n",
    "\n",
    "#Heatmap\n",
    "df.plot(kind=\"hexbin\",x=\"Date\", y=\"Volume\")\n",
    "plt.savefig('Heatmap.jpg')\n",
    "plt.close()\n",
    "#The heatmap also shows the volume of the data and it can be seen where the concetration of sale (value) is higher than others\n",
    "\n",
    "#Time Series\n",
    "df['Close'].plot()\n",
    "#df['Date'].data.plot(x='Close')\n",
    "plt.title(\"Data shares at close of day\")\n",
    "plt.savefig('TimeSeries.jpg')\n",
    "plt.close()\n",
    "#The time series shows the closure value of the shares at each day and shows the trend for the month"
   ]
  },
  {
   "cell_type": "code",
   "execution_count": 98,
   "metadata": {},
   "outputs": [
    {
     "data": {
      "image/png": "[encoded data removed]",
      "text/plain": [
       "<matplotlib.figure.Figure at 0x70dd5f1dd8>"
      ]
     },
     "metadata": {},
     "output_type": "display_data"
    }
   ],
   "source": [
    "#Text books box plot data that is more suited::\n",
    "import pandas as pd\n",
    "from matplotlib import pyplot as plt\n",
    "import sklearn.datasets\n",
    "def get_iris_df():\n",
    "    ds = sklearn.datasets.load_iris()\n",
    "    df = pd.DataFrame(ds['data'],\n",
    "        columns = ds['feature_names'])\n",
    "    code_species_map = dict(zip(\n",
    "        range(3), ds['target_names']))\n",
    "    df['species'] = [code_species_map[c]\n",
    "        for c in ds['target']]\n",
    "    return df\n",
    "\n",
    "df = get_iris_df()\n",
    "col = 'sepal length (cm)'\n",
    "df['ind'] = pd.Series(df.index).apply(lambda i: i% 40)\n",
    "df.pivot('ind','species')[col].plot(kind='box')\n",
    "plt.savefig('TB_Boxplot.jpg')\n",
    "plt.show()\n",
    "#The difference between the species can be seen in in this graph, their lenghts, averages and means"
   ]
  },
  {
   "cell_type": "code",
   "execution_count": 109,
   "metadata": {},
   "outputs": [],
   "source": [
    "col = 'Date'\n",
    "df['ind'] = pd.Series(df.index).apply(lambda i: i%50)\n",
    "df.pivot('ind','Close')[col].plot(kind='box')\n",
    "plt.savefig('Boxplot.jpg')\n",
    "plt.close()"
   ]
  },
  {
   "cell_type": "code",
   "execution_count": null,
   "metadata": {
    "collapsed": true
   },
   "outputs": [],
   "source": []
  }
 ],
 "metadata": {
  "kernelspec": {
   "display_name": "Python 3",
   "language": "python",
   "name": "python3"
  },
  "language_info": {
   "codemirror_mode": {
    "name": "ipython",
    "version": 3
   },
   "file_extension": ".py",
   "mimetype": "text/x-python",
   "name": "python",
   "nbconvert_exporter": "python",
   "pygments_lexer": "ipython3",
   "version": "3.6.1"
  }
 },
 "nbformat": 4,
 "nbformat_minor": 2
}
